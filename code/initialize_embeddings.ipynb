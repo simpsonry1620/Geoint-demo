{
 "cells": [
  {
   "cell_type": "markdown",
   "id": "687b0751-0e0a-472c-96d0-cbb8ddfc0afc",
   "metadata": {},
   "source": [
    "# Create Initial Embbeding Files"
   ]
  },
  {
   "cell_type": "code",
   "execution_count": null,
   "id": "fc6b774b-2ed2-4acc-a0e1-e4dcd7712ca1",
   "metadata": {},
   "outputs": [],
   "source": [
    "%load_ext autoreload\n",
    "%autoreload\n",
    "# Importing the needed libraries & Modules\n",
    "\n",
    "# Import cudf. cudf is part of the NVIDIA RAPIDS datascience SDK and is used to store the dataframes \n",
    "# used in gpu memory.\n",
    "import cudf\n",
    "\n",
    "# Import SentenceTransformer and util from the HuggingFace sentence_transformer library which has\n",
    "# been pre-installed in this environment.\n",
    "from sentence_transformers import SentenceTransformer, util\n",
    "\n",
    "# Import pickle. pickle is used to store the embedding\n",
    "import pickle\n",
    "\n",
    "# Import Path. Used to manage file system\n",
    "from pathlib import Path\n",
    "\n",
    "# Import smart_search_models. This module was created for this example to simplify the management of the \n",
    "# various models that can be used for the embedding process.\n",
    "import smart_search\n",
    "\n",
    "import time\n",
    "\n",
    "# Set some notebook variables\n",
    "DATASET_NAME = \"enron\"\n",
    "DATA_PATH = \"../data/\"\n",
    "MODEL_PATH = \"../models/\"\n",
    "EMBEDDING_FOLDER = DATA_PATH + \"../data/embeddings/\"\n",
    "PARQUET_PATH = DATA_PATH + '../data/enron_extracted/email_data.parquet'"
   ]
  },
  {
   "cell_type": "code",
   "execution_count": null,
   "id": "5f903d17-fb62-4ee3-a0cc-25631c282f77",
   "metadata": {},
   "outputs": [],
   "source": [
    "# Verify the dataset exists. If not, download, extract, and preprocess the dataset.\n",
    "file_path = Path(PARQUET_PATH)\n",
    "if file_path.exists():\n",
    "    print(\"The file exists.\")\n",
    "else:\n",
    "    print(\"The file does not exist. Setting up dataset now.\")\n",
    "    %run data_setup.py"
   ]
  },
  {
   "cell_type": "code",
   "execution_count": null,
   "id": "fcfb22ac-bd57-44a0-a396-b14cec6327c5",
   "metadata": {},
   "outputs": [],
   "source": [
    "df = cudf.read_parquet(PARQUET_PATH).reset_index(drop=True)\n",
    "print(\"The dataset contains {} entrees\".format(df.shape[0]))"
   ]
  },
  {
   "cell_type": "code",
   "execution_count": null,
   "id": "0190c3d6-10ff-4917-9487-7d5f63316153",
   "metadata": {},
   "outputs": [],
   "source": [
    "# Dropping duplicates in the 'messages' column\n",
    "df = df.drop_duplicates(subset='message').reset_index(drop=True)\n",
    "print(\"The dataset contains {} unique entrees\".format(df.shape[0]))"
   ]
  },
  {
   "cell_type": "code",
   "execution_count": null,
   "id": "6eb510da-b4d1-4387-ab3d-29eb65896652",
   "metadata": {},
   "outputs": [],
   "source": [
    "# Create helper functions to read and write embedding to files.\n",
    "def load_embeddings(embedding_file_path):\n",
    "        \n",
    "    #Load sentences & embeddings from disc\n",
    "    with open(embedding_file_path, \"rb\") as fIn:\n",
    "        stored_data = pickle.load(fIn)\n",
    "        stored_message_id = stored_data['message_id']\n",
    "        stored_embeddings = stored_data['embeddings']\n",
    "\n",
    "    # As of now we only need the stored embeddings\n",
    "    return stored_embeddings\n",
    "\n",
    "def write_embeddings(embedding_folder, embedding_file_name,message_ids,source_embeddings):\n",
    "   \n",
    "    # Check if directory exits\n",
    "    dir_path = Path(embedding_folder)\n",
    "    \n",
    "    if not dir_path.is_dir():\n",
    "        print(\"Directory does not exist. Creating it now.\")\n",
    "        # If the directory doesn't exist create it.\n",
    "        dir_path.mkdir()\n",
    "        \n",
    "    # Create the file path\n",
    "    file_path = embedding_folder + embedding_file_name\n",
    "    \n",
    "    # Write out the embedding and message_id to disk\n",
    "    with open(file_path, \"wb\") as fOut:\n",
    "        pickle.dump({'message_id': message_ids, 'embeddings': source_embeddings}, fOut, protocol=pickle.HIGHEST_PROTOCOL)\n",
    "\n",
    "def embedd_dataframe(df,model_name):\n",
    "    # Flag for multi-gpu embedding.\n",
    "    TRAIN_MULTI = False\n",
    "\n",
    "    # Load Model\n",
    "    model = SentenceTransformer(model_name,cache_folder = MODEL_PATH)\n",
    "    \n",
    "    # Create the file name that would be used to store the embeddings.\n",
    "    embedding_file_name = \"embeddings_{}_{}.pkl\".format(DATASET_NAME,model_name.replace('/','-'))\n",
    "    \n",
    "    # Create embedding Path object\n",
    "    embedding_file = Path(EMBEDDING_FOLDER + embedding_file_name)\n",
    "    \n",
    "    # Check if the file \n",
    "    if embedding_file.is_file():\n",
    "        # If a file exists with the embedding file for this dataset / model combination exists load it.\n",
    "        print(\"Embedding file exists. Loading it now.\")\n",
    "        \n",
    "        \n",
    "        source_embeddings = load_embeddings(embedding_file)\n",
    "    else:\n",
    "        # If an embedding file does not exist. Embed the dataset and cache the data.\n",
    "        print(\"Embedding file does not exist. Creating now.\")\n",
    "        \n",
    "        if TRAIN_MULTI:\n",
    "            pool = model.start_multi_process_pool()\n",
    "            source_embeddings = model.encode_multi_process(df.message.to_pandas(),pool)\n",
    "            model.stop_multi_process_pool(pool)\n",
    "        else:\n",
    "            start_time = time.time()  # Start timing before processing\n",
    "            source_embeddings = model.encode(df.message.to_pandas(),convert_to_tensor=True,show_progress_bar=True)\n",
    "            end_time = time.time()  # End timing after processing\n",
    "            total_time = end_time - start_time\n",
    "            print(f\"Total Embedding time: {total_time}\")\n",
    "        \n",
    "        # Write out the generated embeddings\n",
    "        write_embeddings(EMBEDDING_FOLDER,embedding_file_name,df.message_id.to_pandas(),source_embeddings)\n",
    "        \n",
    "    print(embedding_file)"
   ]
  },
  {
   "cell_type": "code",
   "execution_count": null,
   "id": "6cbbf8e9-fc54-4f3d-8319-ca7eee756864",
   "metadata": {},
   "outputs": [],
   "source": [
    "# Create Embeddings for symmetric models\n",
    "models = smart_search.symmetric_models\n",
    "\n",
    "for model_name in models:\n",
    "    embedd_dataframe(df,model_name)\n"
   ]
  },
  {
   "cell_type": "markdown",
   "id": "058205ac-c273-410b-9325-59d718862978",
   "metadata": {},
   "source": [
    "| GPU | Driver | CUDA | Model | Time (s) |\n",
    "| :-- | ------ | ---- | ----- | ---: |\n",
    "| NVIDIA RTX A3500 Ada | 537.77 | 12.2 | all-mpnet-base-v2 | 877 |\n",
    "| NVIDIA RTX A3500 Ada | 537.77 | 12.2 | multi-qa-mpnet-base-dot-v1 | 1121 |\n",
    "| NVIDIA RTX A3500 Ada | 537.77 | 12.2 | all-distilroberta-v1 | 510 |\n",
    "| NVIDIA RTX A3500 Ada | 537.77 | 12.2 | all-MiniLM-L12-v2 | 160 |\n",
    "| NVIDIA RTX A3500 Ada | 537.77 | 12.2 | multi-qa-distilbert-cos-v1 | 510 |\n",
    "| NVIDIA RTX A3500 Ada | 537.77 | 12.2 | all-MiniLM-L6-v2 | 174 |\n",
    "| NVIDIA RTX A3500 Ada | 537.77 | 12.2 | multi-qa-MiniLM-L6-cos-v1 | 315 |\n",
    "| NVIDIA RTX A3500 Ada | 537.77 | 12.2 | paraphrase-albert-small-v2 | 205 |\n",
    "| NVIDIA RTX A3500 Ada | 537.77 | 12.2 | paraphrase-MiniLM-L3-v2 | 97 |"
   ]
  },
  {
   "cell_type": "markdown",
   "id": "336c82a1-e616-4804-b10b-8df51668cd85",
   "metadata": {},
   "source": [
    "## Asymmetric Cosine Similarity Models"
   ]
  },
  {
   "cell_type": "code",
   "execution_count": null,
   "id": "468cb718-9a4a-47f4-8e71-a701284cd10b",
   "metadata": {},
   "outputs": [],
   "source": [
    "models = smart_search.asymmetric_cosine_similarity_models\n",
    "\n",
    "print(f\"Embedding {len(models)} models.\")\n",
    "\n",
    "for model_name in models:\n",
    "    embedd_dataframe(df,model_name)"
   ]
  },
  {
   "cell_type": "markdown",
   "id": "5a4af317-e5fc-4b3c-9fbc-b43a6888ab01",
   "metadata": {},
   "source": [
    "| GPU | Driver | CUDA | Model | Time (s) |\n",
    "| --- | ------ | ---- | ----- | ---- |\n",
    "| NVIDIA RTX A3500 Ada | 537.77 | 12.2 | msmarco-distilbert-base-v4 | 510 |\n",
    "| NVIDIA RTX A3500 Ada | 537.77 | 12.2 | msmarco-roberta-base-v3 | 991 |\n",
    "| NVIDIA RTX A3500 Ada | 537.77 | 12.2 | msmarco-distilbert-base-v3 | 512 |\n",
    "| NVIDIA RTX A3500 Ada | 537.77 | 12.2 | msmarco-MiniLM-L-6-v3 | 310 |\n",
    "| NVIDIA RTX A3500 Ada | 537.77 | 12.2 | msmarco-MiniLM-L-12-v3 | 584 |\n"
   ]
  },
  {
   "cell_type": "markdown",
   "id": "e50ce919-2c8f-4936-a5e0-32eb367f116c",
   "metadata": {},
   "source": [
    "## Multilingual Models\n"
   ]
  },
  {
   "cell_type": "code",
   "execution_count": null,
   "id": "846ac501-f03e-4879-99c9-b229bfc89925",
   "metadata": {},
   "outputs": [],
   "source": [
    "models = smart_search.multilingual_models\n",
    "\n",
    "print(f\"Embedding {len(models)} models.\")\n",
    "\n",
    "for model_name in models:\n",
    "    try:\n",
    "        embedd_dataframe(df, model_name)\n",
    "    except Exception as e:\n",
    "        print(f\"An error occurred while embedding dataframe for model '{model_name}': {e}\")\n",
    "        # Optionally, you can choose to handle the error in a specific way or log it for further analysis."
   ]
  },
  {
   "cell_type": "markdown",
   "id": "712f1b07-9a0d-4198-80af-62e9a3553441",
   "metadata": {},
   "source": [
    "| GPU | Driver | CUDA | Model | Time (s) |\n",
    "| --- | ------ | ---- | ----- | ---- |\n",
    "| NVIDIA RTX A3500 Ada | 537.77 | 12.2 | intfloat-multilingual-e5-large | 2599 |\n",
    "| NVIDIA RTX A3500 Ada | 537.77 | 12.2 | intfloat-multilingual-e5-base | 884 |\n",
    "| NVIDIA RTX A3500 Ada | 537.77 | 12.2 | stsb-xlm-r-multilingual | 280 |\n",
    "| NVIDIA RTX A3500 Ada | 537.77 | 12.2 | MODEL_NAME | SECONDS |"
   ]
  },
  {
   "cell_type": "code",
   "execution_count": null,
   "id": "5d78fd5e-e9a2-4be3-bb21-1e599d15f862",
   "metadata": {},
   "outputs": [],
   "source": []
  },
  {
   "cell_type": "code",
   "execution_count": null,
   "id": "82f04058-f500-45a9-af80-7aaba55a94d0",
   "metadata": {},
   "outputs": [],
   "source": []
  }
 ],
 "metadata": {
  "kernelspec": {
   "display_name": "Python 3 (ipykernel)",
   "language": "python",
   "name": "python3"
  },
  "language_info": {
   "codemirror_mode": {
    "name": "ipython",
    "version": 3
   },
   "file_extension": ".py",
   "mimetype": "text/x-python",
   "name": "python",
   "nbconvert_exporter": "python",
   "pygments_lexer": "ipython3",
   "version": "3.10.12"
  }
 },
 "nbformat": 4,
 "nbformat_minor": 5
}
