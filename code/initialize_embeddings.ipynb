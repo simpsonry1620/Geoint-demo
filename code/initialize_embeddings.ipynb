{
 "cells": [
  {
   "cell_type": "markdown",
   "id": "687b0751-0e0a-472c-96d0-cbb8ddfc0afc",
   "metadata": {},
   "source": [
    "# Create Initial Embbeding Files"
   ]
  },
  {
   "cell_type": "code",
   "execution_count": 7,
   "id": "fc6b774b-2ed2-4acc-a0e1-e4dcd7712ca1",
   "metadata": {},
   "outputs": [
    {
     "name": "stdout",
     "output_type": "stream",
     "text": [
      "The autoreload extension is already loaded. To reload it, use:\n",
      "  %reload_ext autoreload\n"
     ]
    }
   ],
   "source": [
    "%load_ext autoreload\n",
    "%autoreload\n",
    "# Importing the needed libraries & Modules\n",
    "\n",
    "# Import cudf. cudf is part of the NVIDIA RAPIDS datascience SDK and is used to store the dataframes \n",
    "# used in gpu memory.\n",
    "import cudf\n",
    "\n",
    "# Import SentenceTransformer and util from the HuggingFace sentence_transformer library which has\n",
    "# been pre-installed in this environment.\n",
    "from sentence_transformers import SentenceTransformer, util\n",
    "\n",
    "# Import pickle. pickle is used to store the embedding\n",
    "import pickle\n",
    "\n",
    "# Import Path. Used to manage file system\n",
    "from pathlib import Path\n",
    "\n",
    "# Import smart_search_models. This module was created for this example to simplify the management of the \n",
    "# various models that can be used for the embedding process.\n",
    "import smart_search\n",
    "\n",
    "import time\n",
    "\n",
    "# Set some notebook variables\n",
    "DATASET_NAME = \"enron\"\n",
    "DATA_PATH = \"../data/\"\n",
    "MODEL_PATH = \"../models/\"\n",
    "EMBEDDING_FOLDER = DATA_PATH + \"../data/embeddings/\"\n",
    "PARQUET_PATH = DATA_PATH + '../data/enron_extracted/email_data.parquet'"
   ]
  },
  {
   "cell_type": "code",
   "execution_count": 2,
   "id": "5f903d17-fb62-4ee3-a0cc-25631c282f77",
   "metadata": {},
   "outputs": [
    {
     "name": "stdout",
     "output_type": "stream",
     "text": [
      "The file does not exist. Setting up dataset now.\n",
      "Download path does not exist. Creating it now..\n",
      "Downloading data. This may take several minutes.\n",
      "Raw data downloaded.\n",
      "Extracting dataset from: /project/data/downloads/enron_mail_20150507.tar.gz\n",
      "Extraction complete\n",
      "517401 email files found.\n",
      "Creating parquet file from data.\n",
      "Output path does not exist. Creating it now..\n"
     ]
    }
   ],
   "source": [
    "# Verify the dataset exists. If not, download, extract, and preprocess the dataset.\n",
    "file_path = Path(PARQUET_PATH)\n",
    "if file_path.exists():\n",
    "    print(\"The file exists.\")\n",
    "else:\n",
    "    print(\"The file does not exist. Setting up dataset now.\")\n",
    "    %run data_setup.py"
   ]
  },
  {
   "cell_type": "code",
   "execution_count": 3,
   "id": "fcfb22ac-bd57-44a0-a396-b14cec6327c5",
   "metadata": {},
   "outputs": [
    {
     "name": "stdout",
     "output_type": "stream",
     "text": [
      "The dataset contains 517401 entrees\n"
     ]
    }
   ],
   "source": [
    "df = cudf.read_parquet(PARQUET_PATH).reset_index(drop=True)\n",
    "print(\"The dataset contains {} entrees\".format(df.shape[0]))"
   ]
  },
  {
   "cell_type": "code",
   "execution_count": 4,
   "id": "0190c3d6-10ff-4917-9487-7d5f63316153",
   "metadata": {},
   "outputs": [
    {
     "name": "stdout",
     "output_type": "stream",
     "text": [
      "The dataset contains 234821 unique entrees\n"
     ]
    }
   ],
   "source": [
    "# Dropping duplicates in the 'messages' column\n",
    "df = df.drop_duplicates(subset='message').reset_index(drop=True)\n",
    "print(\"The dataset contains {} unique entrees\".format(df.shape[0]))"
   ]
  },
  {
   "cell_type": "code",
   "execution_count": 5,
   "id": "6eb510da-b4d1-4387-ab3d-29eb65896652",
   "metadata": {},
   "outputs": [],
   "source": [
    "# Create helper functions to read and write embedding to files.\n",
    "def load_embeddings(embedding_file_path):\n",
    "        \n",
    "    #Load sentences & embeddings from disc\n",
    "    with open(embedding_file_path, \"rb\") as fIn:\n",
    "        stored_data = pickle.load(fIn)\n",
    "        stored_message_id = stored_data['message_id']\n",
    "        stored_embeddings = stored_data['embeddings']\n",
    "\n",
    "    # As of now we only need the stored embeddings\n",
    "    return stored_embeddings\n",
    "\n",
    "def write_embeddings(embedding_folder, embedding_file_name,message_ids,source_embeddings):\n",
    "   \n",
    "    # Check if directory exits\n",
    "    dir_path = Path(embedding_folder)\n",
    "    \n",
    "    if not dir_path.is_dir():\n",
    "        print(\"Directory does not exist. Creating it now.\")\n",
    "        # If the directory doesn't exist create it.\n",
    "        dir_path.mkdir()\n",
    "        \n",
    "    # Create the file path\n",
    "    file_path = embedding_folder + embedding_file_name\n",
    "    \n",
    "    # Write out the embedding and message_id to disk\n",
    "    with open(file_path, \"wb\") as fOut:\n",
    "        pickle.dump({'message_id': message_ids, 'embeddings': source_embeddings}, fOut, protocol=pickle.HIGHEST_PROTOCOL)\n",
    "\n",
    "def embedd_dataframe(df,model_name):\n",
    "    # Flag for multi-gpu embedding.\n",
    "    TRAIN_MULTI = False\n",
    "\n",
    "    # Load Model\n",
    "    model = SentenceTransformer(model_name,cache_folder = MODEL_PATH)\n",
    "    \n",
    "    # Create the file name that would be used to store the embeddings.\n",
    "    embedding_file_name = \"embeddings_{}_{}.pkl\".format(DATASET_NAME,model_name)\n",
    "    \n",
    "    # Create embedding Path object\n",
    "    embedding_file = Path(EMBEDDING_FOLDER + embedding_file_name)\n",
    "    \n",
    "    # Check if the file \n",
    "    if embedding_file.is_file():\n",
    "        # If a file exists with the embedding file for this dataset / model combination exists load it.\n",
    "        print(\"Embedding file exists. Loading it now.\")\n",
    "        \n",
    "        \n",
    "        source_embeddings = load_embeddings(embedding_file)\n",
    "    else:\n",
    "        # If an embedding file does not exist. Embed the dataset and cache the data.\n",
    "        print(\"Embedding file does not exist. Creating now.\")\n",
    "        \n",
    "        if TRAIN_MULTI:\n",
    "            pool = model.start_multi_process_pool()\n",
    "            source_embeddings = model.encode_multi_process(df.message.to_pandas(),pool)\n",
    "            model.stop_multi_process_pool(pool)\n",
    "        else:\n",
    "            start_time = time.time()  # Start timing before processing\n",
    "            source_embeddings = model.encode(df.message.to_pandas(),convert_to_tensor=True,show_progress_bar=True)\n",
    "            end_time = time.time()  # End timing after processing\n",
    "            total_time = end_time - start_time\n",
    "            print(f\"Total Embedding time: {total_time}\")\n",
    "        \n",
    "        # Write out the generated embeddings\n",
    "        write_embeddings(EMBEDDING_FOLDER,embedding_file_name,df.message_id.to_pandas(),source_embeddings)\n",
    "        \n",
    "    print(embedding_file)"
   ]
  },
  {
   "cell_type": "code",
   "execution_count": 15,
   "id": "6cbbf8e9-fc54-4f3d-8319-ca7eee756864",
   "metadata": {},
   "outputs": [
    {
     "name": "stdout",
     "output_type": "stream",
     "text": [
      "Embedding file does not exist. Creating now.\n"
     ]
    },
    {
     "name": "stderr",
     "output_type": "stream",
     "text": [
      "Batches: 100%|██████████| 7339/7339 [14:29<00:00,  8.44it/s]\n"
     ]
    },
    {
     "name": "stdout",
     "output_type": "stream",
     "text": [
      "Total Embedding time: 876.5277631282806\n",
      "../data/../data/embeddings/embeddings_enron_all-mpnet-base-v2.pkl\n",
      "Embedding file does not exist. Creating now.\n"
     ]
    },
    {
     "name": "stderr",
     "output_type": "stream",
     "text": [
      "Batches: 100%|██████████| 7339/7339 [18:32<00:00,  6.60it/s]\n"
     ]
    },
    {
     "name": "stdout",
     "output_type": "stream",
     "text": [
      "Total Embedding time: 1120.6342859268188\n",
      "../data/../data/embeddings/embeddings_enron_multi-qa-mpnet-base-dot-v1.pkl\n",
      "Embedding file does not exist. Creating now.\n"
     ]
    },
    {
     "name": "stderr",
     "output_type": "stream",
     "text": [
      "Batches: 100%|██████████| 7339/7339 [08:22<00:00, 14.60it/s] \n"
     ]
    },
    {
     "name": "stdout",
     "output_type": "stream",
     "text": [
      "Total Embedding time: 509.81654620170593\n",
      "../data/../data/embeddings/embeddings_enron_all-distilroberta-v1.pkl\n",
      "Embedding file does not exist. Creating now.\n"
     ]
    },
    {
     "name": "stderr",
     "output_type": "stream",
     "text": [
      "Batches: 100%|██████████| 7339/7339 [02:31<00:00, 48.52it/s]\n"
     ]
    },
    {
     "name": "stdout",
     "output_type": "stream",
     "text": [
      "Total Embedding time: 159.5010917186737\n",
      "../data/../data/embeddings/embeddings_enron_all-MiniLM-L12-v2.pkl\n",
      "Embedding file does not exist. Creating now.\n"
     ]
    },
    {
     "name": "stderr",
     "output_type": "stream",
     "text": [
      "Batches: 100%|██████████| 7339/7339 [08:22<00:00, 14.61it/s] \n"
     ]
    },
    {
     "name": "stdout",
     "output_type": "stream",
     "text": [
      "Total Embedding time: 510.0738785266876\n",
      "../data/../data/embeddings/embeddings_enron_multi-qa-distilbert-cos-v1.pkl\n",
      "Embedding file does not exist. Creating now.\n"
     ]
    },
    {
     "name": "stderr",
     "output_type": "stream",
     "text": [
      "Batches: 100%|██████████| 7339/7339 [02:45<00:00, 44.38it/s] \n"
     ]
    },
    {
     "name": "stdout",
     "output_type": "stream",
     "text": [
      "Total Embedding time: 173.6871976852417\n",
      "../data/../data/embeddings/embeddings_enron_all-MiniLM-L6-v2.pkl\n",
      "Embedding file does not exist. Creating now.\n"
     ]
    },
    {
     "name": "stderr",
     "output_type": "stream",
     "text": [
      "Batches: 100%|██████████| 7339/7339 [05:07<00:00, 23.87it/s] \n"
     ]
    },
    {
     "name": "stdout",
     "output_type": "stream",
     "text": [
      "Total Embedding time: 315.4171566963196\n",
      "../data/../data/embeddings/embeddings_enron_multi-qa-MiniLM-L6-cos-v1.pkl\n",
      "Embedding file does not exist. Creating now.\n"
     ]
    },
    {
     "name": "stderr",
     "output_type": "stream",
     "text": [
      "Batches: 100%|██████████| 7339/7339 [03:16<00:00, 37.39it/s] \n"
     ]
    },
    {
     "name": "stdout",
     "output_type": "stream",
     "text": [
      "Total Embedding time: 204.96796989440918\n",
      "../data/../data/embeddings/embeddings_enron_paraphrase-albert-small-v2.pkl\n",
      "Embedding file does not exist. Creating now.\n"
     ]
    },
    {
     "name": "stderr",
     "output_type": "stream",
     "text": [
      "Batches: 100%|██████████| 7339/7339 [01:28<00:00, 82.60it/s] \n"
     ]
    },
    {
     "name": "stdout",
     "output_type": "stream",
     "text": [
      "Total Embedding time: 96.93834710121155\n",
      "../data/../data/embeddings/embeddings_enron_paraphrase-MiniLM-L3-v2.pkl\n"
     ]
    }
   ],
   "source": [
    "# Create Embeddings for symmetric models\n",
    "models = smart_search.symmetric_models\n",
    "\n",
    "for model_name in models:\n",
    "    embedd_dataframe(df,model_name)\n"
   ]
  },
  {
   "cell_type": "markdown",
   "id": "058205ac-c273-410b-9325-59d718862978",
   "metadata": {},
   "source": [
    "| GPU | Driver | CUDA | Model | Time (s) |\n",
    "| :-- | ------ | ---- | ----- | ---: |\n",
    "| NVIDIA RTX A3500 Ada | 537.77 | 12.2 | all-mpnet-base-v2 | 877 |\n",
    "| NVIDIA RTX A3500 Ada | 537.77 | 12.2 | multi-qa-mpnet-base-dot-v1 | 1121 |\n",
    "| NVIDIA RTX A3500 Ada | 537.77 | 12.2 | all-distilroberta-v1 | 510 |\n",
    "| NVIDIA RTX A3500 Ada | 537.77 | 12.2 | all-MiniLM-L12-v2 | 160 |\n",
    "| NVIDIA RTX A3500 Ada | 537.77 | 12.2 | multi-qa-distilbert-cos-v1 | 510 |\n",
    "| NVIDIA RTX A3500 Ada | 537.77 | 12.2 | all-MiniLM-L6-v2 | 174 |\n",
    "| NVIDIA RTX A3500 Ada | 537.77 | 12.2 | multi-qa-MiniLM-L6-cos-v1 | 315 |\n",
    "| NVIDIA RTX A3500 Ada | 537.77 | 12.2 | paraphrase-albert-small-v2 | 205 |\n",
    "| NVIDIA RTX A3500 Ada | 537.77 | 12.2 | paraphrase-MiniLM-L3-v2 | 97 |"
   ]
  },
  {
   "cell_type": "markdown",
   "id": "336c82a1-e616-4804-b10b-8df51668cd85",
   "metadata": {},
   "source": [
    "## Asymmetric Cosine Similarity Models"
   ]
  },
  {
   "cell_type": "code",
   "execution_count": 16,
   "id": "468cb718-9a4a-47f4-8e71-a701284cd10b",
   "metadata": {},
   "outputs": [
    {
     "name": "stdout",
     "output_type": "stream",
     "text": [
      "Embedding 5 models.\n",
      "Embedding file does not exist. Creating now.\n"
     ]
    },
    {
     "name": "stderr",
     "output_type": "stream",
     "text": [
      "Batches: 100%|██████████| 7339/7339 [08:22<00:00, 14.61it/s] \n"
     ]
    },
    {
     "name": "stdout",
     "output_type": "stream",
     "text": [
      "Total Embedding time: 510.31094694137573\n",
      "../data/../data/embeddings/embeddings_enron_msmarco-distilbert-base-v4.pkl\n",
      "Embedding file does not exist. Creating now.\n"
     ]
    },
    {
     "name": "stderr",
     "output_type": "stream",
     "text": [
      "Batches: 100%|██████████| 7339/7339 [16:22<00:00,  7.47it/s]\n"
     ]
    },
    {
     "name": "stdout",
     "output_type": "stream",
     "text": [
      "Total Embedding time: 991.3924067020416\n",
      "../data/../data/embeddings/embeddings_enron_msmarco-roberta-base-v3.pkl\n",
      "Embedding file does not exist. Creating now.\n"
     ]
    },
    {
     "name": "stderr",
     "output_type": "stream",
     "text": [
      "Batches: 100%|██████████| 7339/7339 [08:23<00:00, 14.58it/s] \n"
     ]
    },
    {
     "name": "stdout",
     "output_type": "stream",
     "text": [
      "Total Embedding time: 512.0414416790009\n",
      "../data/../data/embeddings/embeddings_enron_msmarco-distilbert-base-v3.pkl\n",
      "Embedding file does not exist. Creating now.\n"
     ]
    },
    {
     "name": "stderr",
     "output_type": "stream",
     "text": [
      "Batches: 100%|██████████| 7339/7339 [05:02<00:00, 24.25it/s] \n"
     ]
    },
    {
     "name": "stdout",
     "output_type": "stream",
     "text": [
      "Total Embedding time: 310.11714577674866\n",
      "../data/../data/embeddings/embeddings_enron_msmarco-MiniLM-L-6-v3.pkl\n",
      "Embedding file does not exist. Creating now.\n"
     ]
    },
    {
     "name": "stderr",
     "output_type": "stream",
     "text": [
      "Batches: 100%|██████████| 7339/7339 [09:36<00:00, 12.73it/s]\n"
     ]
    },
    {
     "name": "stdout",
     "output_type": "stream",
     "text": [
      "Total Embedding time: 584.1150236129761\n",
      "../data/../data/embeddings/embeddings_enron_msmarco-MiniLM-L-12-v3.pkl\n"
     ]
    }
   ],
   "source": [
    "models = smart_search.asymmetric_cosine_similarity_models\n",
    "\n",
    "print(f\"Embedding {len(models)} models.\")\n",
    "\n",
    "for model_name in models:\n",
    "    embedd_dataframe(df,model_name)"
   ]
  },
  {
   "cell_type": "markdown",
   "id": "5a4af317-e5fc-4b3c-9fbc-b43a6888ab01",
   "metadata": {},
   "source": [
    "| GPU | Driver | CUDA | Model | Time (s) |\n",
    "| --- | ------ | ---- | ----- | ---- |\n",
    "| NVIDIA RTX A3500 Ada | 537.77 | 12.2 | msmarco-distilbert-base-v4 | 510 |\n",
    "| NVIDIA RTX A3500 Ada | 537.77 | 12.2 | msmarco-roberta-base-v3 | 991 |\n",
    "| NVIDIA RTX A3500 Ada | 537.77 | 12.2 | msmarco-distilbert-base-v3 | 512 |\n",
    "| NVIDIA RTX A3500 Ada | 537.77 | 12.2 | msmarco-MiniLM-L-6-v3 | 310 |\n",
    "| NVIDIA RTX A3500 Ada | 537.77 | 12.2 | msmarco-MiniLM-L-12-v3 | 584 |\n"
   ]
  },
  {
   "cell_type": "markdown",
   "id": "e50ce919-2c8f-4936-a5e0-32eb367f116c",
   "metadata": {},
   "source": [
    "## Multilingual Models\n"
   ]
  },
  {
   "cell_type": "code",
   "execution_count": 8,
   "id": "846ac501-f03e-4879-99c9-b229bfc89925",
   "metadata": {},
   "outputs": [
    {
     "name": "stdout",
     "output_type": "stream",
     "text": [
      "Embedding 3 models.\n"
     ]
    },
    {
     "name": "stderr",
     "output_type": "stream",
     "text": [
      "/home/workbench/.local/lib/python3.10/site-packages/huggingface_hub/file_download.py:1132: FutureWarning: `resume_download` is deprecated and will be removed in version 1.0.0. Downloads always resume when possible. If you want to force a new download, use `force_download=True`.\n",
      "  warnings.warn(\n"
     ]
    },
    {
     "name": "stdout",
     "output_type": "stream",
     "text": [
      "Embedding file does not exist. Creating now.\n"
     ]
    },
    {
     "name": "stderr",
     "output_type": "stream",
     "text": [
      "Batches: 100%|██████████| 7339/7339 [44:00<00:00,  2.78it/s]  \n"
     ]
    },
    {
     "name": "stdout",
     "output_type": "stream",
     "text": [
      "Total Embedding time: 2654.854996204376\n",
      "Directory does not exist. Creating it now.\n"
     ]
    },
    {
     "ename": "FileNotFoundError",
     "evalue": "[Errno 2] No such file or directory: '../data/../data/embeddings/embeddings_enron_intfloat/multilingual-e5-large.pkl'",
     "output_type": "error",
     "traceback": [
      "\u001b[0;31m---------------------------------------------------------------------------\u001b[0m",
      "\u001b[0;31mFileNotFoundError\u001b[0m                         Traceback (most recent call last)",
      "Cell \u001b[0;32mIn[8], line 6\u001b[0m\n\u001b[1;32m      3\u001b[0m \u001b[38;5;28mprint\u001b[39m(\u001b[38;5;124mf\u001b[39m\u001b[38;5;124m\"\u001b[39m\u001b[38;5;124mEmbedding \u001b[39m\u001b[38;5;132;01m{\u001b[39;00m\u001b[38;5;28mlen\u001b[39m(models)\u001b[38;5;132;01m}\u001b[39;00m\u001b[38;5;124m models.\u001b[39m\u001b[38;5;124m\"\u001b[39m)\n\u001b[1;32m      5\u001b[0m \u001b[38;5;28;01mfor\u001b[39;00m model_name \u001b[38;5;129;01min\u001b[39;00m models:\n\u001b[0;32m----> 6\u001b[0m     \u001b[43membedd_dataframe\u001b[49m\u001b[43m(\u001b[49m\u001b[43mdf\u001b[49m\u001b[43m,\u001b[49m\u001b[43mmodel_name\u001b[49m\u001b[43m)\u001b[49m\n",
      "Cell \u001b[0;32mIn[5], line 66\u001b[0m, in \u001b[0;36membedd_dataframe\u001b[0;34m(df, model_name)\u001b[0m\n\u001b[1;32m     63\u001b[0m         \u001b[38;5;28mprint\u001b[39m(\u001b[38;5;124mf\u001b[39m\u001b[38;5;124m\"\u001b[39m\u001b[38;5;124mTotal Embedding time: \u001b[39m\u001b[38;5;132;01m{\u001b[39;00mtotal_time\u001b[38;5;132;01m}\u001b[39;00m\u001b[38;5;124m\"\u001b[39m)\n\u001b[1;32m     65\u001b[0m     \u001b[38;5;66;03m# Write out the generated embeddings\u001b[39;00m\n\u001b[0;32m---> 66\u001b[0m     \u001b[43mwrite_embeddings\u001b[49m\u001b[43m(\u001b[49m\u001b[43mEMBEDDING_FOLDER\u001b[49m\u001b[43m,\u001b[49m\u001b[43membedding_file_name\u001b[49m\u001b[43m,\u001b[49m\u001b[43mdf\u001b[49m\u001b[38;5;241;43m.\u001b[39;49m\u001b[43mmessage_id\u001b[49m\u001b[38;5;241;43m.\u001b[39;49m\u001b[43mto_pandas\u001b[49m\u001b[43m(\u001b[49m\u001b[43m)\u001b[49m\u001b[43m,\u001b[49m\u001b[43msource_embeddings\u001b[49m\u001b[43m)\u001b[49m\n\u001b[1;32m     68\u001b[0m \u001b[38;5;28mprint\u001b[39m(embedding_file)\n",
      "Cell \u001b[0;32mIn[5], line 27\u001b[0m, in \u001b[0;36mwrite_embeddings\u001b[0;34m(embedding_folder, embedding_file_name, message_ids, source_embeddings)\u001b[0m\n\u001b[1;32m     24\u001b[0m file_path \u001b[38;5;241m=\u001b[39m embedding_folder \u001b[38;5;241m+\u001b[39m embedding_file_name\n\u001b[1;32m     26\u001b[0m \u001b[38;5;66;03m# Write out the embedding and message_id to disk\u001b[39;00m\n\u001b[0;32m---> 27\u001b[0m \u001b[38;5;28;01mwith\u001b[39;00m \u001b[38;5;28;43mopen\u001b[39;49m\u001b[43m(\u001b[49m\u001b[43mfile_path\u001b[49m\u001b[43m,\u001b[49m\u001b[43m \u001b[49m\u001b[38;5;124;43m\"\u001b[39;49m\u001b[38;5;124;43mwb\u001b[39;49m\u001b[38;5;124;43m\"\u001b[39;49m\u001b[43m)\u001b[49m \u001b[38;5;28;01mas\u001b[39;00m fOut:\n\u001b[1;32m     28\u001b[0m     pickle\u001b[38;5;241m.\u001b[39mdump({\u001b[38;5;124m'\u001b[39m\u001b[38;5;124mmessage_id\u001b[39m\u001b[38;5;124m'\u001b[39m: message_ids, \u001b[38;5;124m'\u001b[39m\u001b[38;5;124membeddings\u001b[39m\u001b[38;5;124m'\u001b[39m: source_embeddings}, fOut, protocol\u001b[38;5;241m=\u001b[39mpickle\u001b[38;5;241m.\u001b[39mHIGHEST_PROTOCOL)\n",
      "File \u001b[0;32m/usr/local/lib/python3.10/dist-packages/IPython/core/interactiveshell.py:286\u001b[0m, in \u001b[0;36m_modified_open\u001b[0;34m(file, *args, **kwargs)\u001b[0m\n\u001b[1;32m    279\u001b[0m \u001b[38;5;28;01mif\u001b[39;00m file \u001b[38;5;129;01min\u001b[39;00m {\u001b[38;5;241m0\u001b[39m, \u001b[38;5;241m1\u001b[39m, \u001b[38;5;241m2\u001b[39m}:\n\u001b[1;32m    280\u001b[0m     \u001b[38;5;28;01mraise\u001b[39;00m \u001b[38;5;167;01mValueError\u001b[39;00m(\n\u001b[1;32m    281\u001b[0m         \u001b[38;5;124mf\u001b[39m\u001b[38;5;124m\"\u001b[39m\u001b[38;5;124mIPython won\u001b[39m\u001b[38;5;124m'\u001b[39m\u001b[38;5;124mt let you open fd=\u001b[39m\u001b[38;5;132;01m{\u001b[39;00mfile\u001b[38;5;132;01m}\u001b[39;00m\u001b[38;5;124m by default \u001b[39m\u001b[38;5;124m\"\u001b[39m\n\u001b[1;32m    282\u001b[0m         \u001b[38;5;124m\"\u001b[39m\u001b[38;5;124mas it is likely to crash IPython. If you know what you are doing, \u001b[39m\u001b[38;5;124m\"\u001b[39m\n\u001b[1;32m    283\u001b[0m         \u001b[38;5;124m\"\u001b[39m\u001b[38;5;124myou can use builtins\u001b[39m\u001b[38;5;124m'\u001b[39m\u001b[38;5;124m open.\u001b[39m\u001b[38;5;124m\"\u001b[39m\n\u001b[1;32m    284\u001b[0m     )\n\u001b[0;32m--> 286\u001b[0m \u001b[38;5;28;01mreturn\u001b[39;00m \u001b[43mio_open\u001b[49m\u001b[43m(\u001b[49m\u001b[43mfile\u001b[49m\u001b[43m,\u001b[49m\u001b[43m \u001b[49m\u001b[38;5;241;43m*\u001b[39;49m\u001b[43margs\u001b[49m\u001b[43m,\u001b[49m\u001b[43m \u001b[49m\u001b[38;5;241;43m*\u001b[39;49m\u001b[38;5;241;43m*\u001b[39;49m\u001b[43mkwargs\u001b[49m\u001b[43m)\u001b[49m\n",
      "\u001b[0;31mFileNotFoundError\u001b[0m: [Errno 2] No such file or directory: '../data/../data/embeddings/embeddings_enron_intfloat/multilingual-e5-large.pkl'"
     ]
    }
   ],
   "source": [
    "models = smart_search.multilingual_models\n",
    "\n",
    "print(f\"Embedding {len(models)} models.\")\n",
    "\n",
    "for model_name in models:\n",
    "    embedd_dataframe(df,model_name)"
   ]
  },
  {
   "cell_type": "markdown",
   "id": "712f1b07-9a0d-4198-80af-62e9a3553441",
   "metadata": {},
   "source": [
    "| GPU | Driver | CUDA | Model | Time (s) |\n",
    "| --- | ------ | ---- | ----- | ---- |\n",
    "| NVIDIA RTX A3500 Ada | 537.77 | 12.2 | MODEL_NAME | SECONDS |\n",
    "| NVIDIA RTX A3500 Ada | 537.77 | 12.2 | MODEL_NAME | SECONDS |\n",
    "| NVIDIA RTX A3500 Ada | 537.77 | 12.2 | MODEL_NAME | SECONDS |\n",
    "| NVIDIA RTX A3500 Ada | 537.77 | 12.2 | MODEL_NAME | SECONDS |"
   ]
  }
 ],
 "metadata": {
  "kernelspec": {
   "display_name": "Python 3 (ipykernel)",
   "language": "python",
   "name": "python3"
  },
  "language_info": {
   "codemirror_mode": {
    "name": "ipython",
    "version": 3
   },
   "file_extension": ".py",
   "mimetype": "text/x-python",
   "name": "python",
   "nbconvert_exporter": "python",
   "pygments_lexer": "ipython3",
   "version": "3.10.12"
  }
 },
 "nbformat": 4,
 "nbformat_minor": 5
}
